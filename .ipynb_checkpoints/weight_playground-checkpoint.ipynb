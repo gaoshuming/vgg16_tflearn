{
 "cells": [
  {
   "cell_type": "code",
   "execution_count": 1,
   "metadata": {
    "collapsed": true
   },
   "outputs": [],
   "source": [
    "import h5py\n",
    "import numpy as np"
   ]
  },
  {
   "cell_type": "code",
   "execution_count": 2,
   "metadata": {
    "collapsed": true
   },
   "outputs": [],
   "source": [
    "f = h5py.File(\"vgg16_weights.h5\", \"r\")"
   ]
  },
  {
   "cell_type": "code",
   "execution_count": null,
   "metadata": {
    "collapsed": false
   },
   "outputs": [],
   "source": []
  },
  {
   "cell_type": "code",
   "execution_count": 87,
   "metadata": {
    "collapsed": false
   },
   "outputs": [
    {
     "name": "stdout",
     "output_type": "stream",
     "text": [
      "<HDF5 dataset \"param_0\": shape (64, 3, 3, 3), type \"<f4\"> <HDF5 dataset \"param_1\": shape (64,), type \"<f4\">\n",
      "<HDF5 dataset \"param_0\": shape (64, 64, 3, 3), type \"<f4\"> <HDF5 dataset \"param_1\": shape (64,), type \"<f4\">\n",
      "<HDF5 dataset \"param_0\": shape (128, 64, 3, 3), type \"<f4\"> <HDF5 dataset \"param_1\": shape (128,), type \"<f4\">\n",
      "<HDF5 dataset \"param_0\": shape (128, 128, 3, 3), type \"<f4\"> <HDF5 dataset \"param_1\": shape (128,), type \"<f4\">\n",
      "<HDF5 dataset \"param_0\": shape (256, 128, 3, 3), type \"<f4\"> <HDF5 dataset \"param_1\": shape (256,), type \"<f4\">\n",
      "<HDF5 dataset \"param_0\": shape (256, 256, 3, 3), type \"<f4\"> <HDF5 dataset \"param_1\": shape (256,), type \"<f4\">\n",
      "<HDF5 dataset \"param_0\": shape (256, 256, 3, 3), type \"<f4\"> <HDF5 dataset \"param_1\": shape (256,), type \"<f4\">\n",
      "<HDF5 dataset \"param_0\": shape (512, 256, 3, 3), type \"<f4\"> <HDF5 dataset \"param_1\": shape (512,), type \"<f4\">\n",
      "<HDF5 dataset \"param_0\": shape (512, 512, 3, 3), type \"<f4\"> <HDF5 dataset \"param_1\": shape (512,), type \"<f4\">\n",
      "<HDF5 dataset \"param_0\": shape (512, 512, 3, 3), type \"<f4\"> <HDF5 dataset \"param_1\": shape (512,), type \"<f4\">\n",
      "<HDF5 dataset \"param_0\": shape (512, 512, 3, 3), type \"<f4\"> <HDF5 dataset \"param_1\": shape (512,), type \"<f4\">\n",
      "<HDF5 dataset \"param_0\": shape (512, 512, 3, 3), type \"<f4\"> <HDF5 dataset \"param_1\": shape (512,), type \"<f4\">\n",
      "<HDF5 dataset \"param_0\": shape (512, 512, 3, 3), type \"<f4\"> <HDF5 dataset \"param_1\": shape (512,), type \"<f4\">\n",
      "<HDF5 dataset \"param_0\": shape (25088, 4096), type \"<f4\"> <HDF5 dataset \"param_1\": shape (4096,), type \"<f4\">\n",
      "<HDF5 dataset \"param_0\": shape (4096, 4096), type \"<f4\"> <HDF5 dataset \"param_1\": shape (4096,), type \"<f4\">\n",
      "<HDF5 dataset \"param_0\": shape (4096, 1000), type \"<f4\"> <HDF5 dataset \"param_1\": shape (1000,), type \"<f4\">\n"
     ]
    }
   ],
   "source": [
    "print f[\"layer_1\"][\"param_0\"],f[\"layer_1\"][\"param_1\"]\n",
    "print f[\"layer_3\"][\"param_0\"],f[\"layer_3\"][\"param_1\"]\n",
    "print f[\"layer_6\"][\"param_0\"],f[\"layer_6\"][\"param_1\"]\n",
    "print f[\"layer_8\"][\"param_0\"],f[\"layer_8\"][\"param_1\"]\n",
    "print f[\"layer_11\"][\"param_0\"],f[\"layer_11\"][\"param_1\"]\n",
    "print f[\"layer_13\"][\"param_0\"],f[\"layer_13\"][\"param_1\"]\n",
    "print f[\"layer_15\"][\"param_0\"],f[\"layer_15\"][\"param_1\"]\n",
    "print f[\"layer_18\"][\"param_0\"],f[\"layer_18\"][\"param_1\"]\n",
    "print f[\"layer_20\"][\"param_0\"],f[\"layer_20\"][\"param_1\"]\n",
    "print f[\"layer_22\"][\"param_0\"],f[\"layer_22\"][\"param_1\"]\n",
    "print f[\"layer_25\"][\"param_0\"],f[\"layer_25\"][\"param_1\"]\n",
    "print f[\"layer_27\"][\"param_0\"],f[\"layer_27\"][\"param_1\"]\n",
    "print f[\"layer_29\"][\"param_0\"],f[\"layer_29\"][\"param_1\"]\n",
    "print f[\"layer_32\"][\"param_0\"],f[\"layer_32\"][\"param_1\"]\n",
    "print f[\"layer_34\"][\"param_0\"],f[\"layer_34\"][\"param_1\"]\n",
    "print f[\"layer_36\"][\"param_0\"],f[\"layer_36\"][\"param_1\"]"
   ]
  },
  {
   "cell_type": "code",
   "execution_count": 93,
   "metadata": {
    "collapsed": false
   },
   "outputs": [],
   "source": [
    "f.move(\"layer_1/param_0\",\"layer_1/W\")\n",
    "f.move(\"layer_1/param_1\",\"layer_1/b\")\n",
    "f.move(\"layer_1\",\"conv1_1\")\n",
    "\n",
    "f.move(\"layer_3/param_0\",\"layer_3/W\")\n",
    "f.move(\"layer_3/param_1\",\"layer_3/b\")\n",
    "f.move(\"layer_3\",\"conv1_2\")\n",
    "\n",
    "f.move(\"layer_6/param_0\",\"layer_6/W\")\n",
    "f.move(\"layer_6/param_1\",\"layer_6/b\")\n",
    "f.move(\"layer_6\",\"conv2_1\")\n",
    "\n",
    "f.move(\"layer_8/param_0\",\"layer_8/W\")\n",
    "f.move(\"layer_8/param_1\",\"layer_8/b\")\n",
    "f.move(\"layer_8\",\"conv2_2\")\n",
    "\n",
    "f.move(\"layer_11/param_0\",\"layer_11/W\")\n",
    "f.move(\"layer_11/param_1\",\"layer_11/b\")\n",
    "f.move(\"layer_11\",\"conv3_1\")\n",
    "\n",
    "f.move(\"layer_13/param_0\",\"layer_13/W\")\n",
    "f.move(\"layer_13/param_1\",\"layer_13/b\")\n",
    "f.move(\"layer_13\",\"conv3_2\")\n",
    "\n",
    "f.move(\"layer_15/param_0\",\"layer_15/W\")\n",
    "f.move(\"layer_15/param_1\",\"layer_15/b\")\n",
    "f.move(\"layer_15\",\"conv3_3\")\n",
    "\n",
    "f.move(\"layer_18/param_0\",\"layer_18/W\")\n",
    "f.move(\"layer_18/param_1\",\"layer_18/b\")\n",
    "f.move(\"layer_18\",\"conv4_1\")\n",
    "\n",
    "f.move(\"layer_20/param_0\",\"layer_20/W\")\n",
    "f.move(\"layer_20/param_1\",\"layer_20/b\")\n",
    "f.move(\"layer_20\",\"conv4_2\")\n",
    "\n",
    "f.move(\"layer_22/param_0\",\"layer_22/W\")\n",
    "f.move(\"layer_22/param_1\",\"layer_22/b\")\n",
    "f.move(\"layer_22\",\"conv4_3\")\n",
    "\n",
    "f.move(\"layer_25/param_0\",\"layer_25/W\")\n",
    "f.move(\"layer_25/param_1\",\"layer_25/b\")\n",
    "f.move(\"layer_25\",\"conv5_1\")\n",
    "\n",
    "f.move(\"layer_27/param_0\",\"layer_27/W\")\n",
    "f.move(\"layer_27/param_1\",\"layer_27/b\")\n",
    "f.move(\"layer_27\",\"conv5_2\")\n",
    "\n",
    "f.move(\"layer_29/param_0\",\"layer_29/W\")\n",
    "f.move(\"layer_29/param_1\",\"layer_29/b\")\n",
    "f.move(\"layer_29\",\"conv5_3\")\n",
    "\n",
    "f.move(\"layer_32/param_0\",\"layer_32/W\")\n",
    "f.move(\"layer_32/param_1\",\"layer_32/b\")\n",
    "f.move(\"layer_32\",\"fc6\")\n",
    "\n",
    "f.move(\"layer_34/param_0\",\"layer_34/W\")\n",
    "f.move(\"layer_34/param_1\",\"layer_34/b\")\n",
    "f.move(\"layer_34\",\"fc7\")\n",
    "\n",
    "f.move(\"layer_36/param_0\",\"layer_36/W\")\n",
    "f.move(\"layer_36/param_1\",\"layer_36/b\")\n",
    "f.move(\"layer_36\",\"fc8\")\n"
   ]
  },
  {
   "cell_type": "code",
   "execution_count": 94,
   "metadata": {
    "collapsed": false
   },
   "outputs": [
    {
     "data": {
      "text/plain": [
       "[u'conv1_1',\n",
       " u'conv1_2',\n",
       " u'conv2_1',\n",
       " u'conv2_2',\n",
       " u'conv3_1',\n",
       " u'conv3_2',\n",
       " u'conv3_3',\n",
       " u'conv4_1',\n",
       " u'conv4_2',\n",
       " u'conv4_3',\n",
       " u'conv5_1',\n",
       " u'conv5_2',\n",
       " u'conv5_3',\n",
       " u'fc6',\n",
       " u'fc7',\n",
       " u'fc8',\n",
       " u'layer_0',\n",
       " u'layer_10',\n",
       " u'layer_12',\n",
       " u'layer_14',\n",
       " u'layer_16',\n",
       " u'layer_17',\n",
       " u'layer_19',\n",
       " u'layer_2',\n",
       " u'layer_21',\n",
       " u'layer_23',\n",
       " u'layer_24',\n",
       " u'layer_26',\n",
       " u'layer_28',\n",
       " u'layer_30',\n",
       " u'layer_31',\n",
       " u'layer_33',\n",
       " u'layer_35',\n",
       " u'layer_4',\n",
       " u'layer_5',\n",
       " u'layer_7',\n",
       " u'layer_9']"
      ]
     },
     "execution_count": 94,
     "metadata": {},
     "output_type": "execute_result"
    }
   ],
   "source": [
    "del f[u'layer_0']\n",
    "del f[u'layer_10'\n",
    "del f[u'layer_12'\n",
    "del f[u'layer_14'\n",
    "del f[u'layer_16'\n",
    "del f[u'layer_17'\n",
    "del f[u'layer_19'\n",
    "del f[u'layer_2'\n",
    "del f[u'layer_21'\n",
    " u'layer_23'\n",
    " u'layer_24'\n",
    " u'layer_26'\n",
    " u'layer_28'\n",
    " u'layer_30'\n",
    " u'layer_31'\n",
    " u'layer_33'\n",
    " u'layer_35'\n",
    " u'layer_4'\n",
    " u'layer_5'\n",
    " u'layer_7'\n",
    " u'layer_9'"
   ]
  },
  {
   "cell_type": "code",
   "execution_count": null,
   "metadata": {
    "collapsed": false
   },
   "outputs": [],
   "source": []
  },
  {
   "cell_type": "code",
   "execution_count": null,
   "metadata": {
    "collapsed": true
   },
   "outputs": [],
   "source": []
  }
 ],
 "metadata": {
  "kernelspec": {
   "display_name": "Python 2",
   "language": "python",
   "name": "python2"
  },
  "language_info": {
   "codemirror_mode": {
    "name": "ipython",
    "version": 2
   },
   "file_extension": ".py",
   "mimetype": "text/x-python",
   "name": "python",
   "nbconvert_exporter": "python",
   "pygments_lexer": "ipython2",
   "version": "2.7.6"
  }
 },
 "nbformat": 4,
 "nbformat_minor": 0
}
